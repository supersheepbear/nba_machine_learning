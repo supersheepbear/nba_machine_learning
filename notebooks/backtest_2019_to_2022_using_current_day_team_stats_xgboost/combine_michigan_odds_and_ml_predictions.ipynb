{
 "cells": [
  {
   "cell_type": "code",
   "execution_count": 64,
   "metadata": {
    "ExecuteTime": {
     "end_time": "2022-04-07T02:47:21.689511Z",
     "start_time": "2022-04-07T02:47:21.671519Z"
    }
   },
   "outputs": [],
   "source": [
    "import pandas as pd\n",
    "from datetime import datetime, timedelta\n",
    "import numpy as np"
   ]
  },
  {
   "cell_type": "code",
   "execution_count": 65,
   "metadata": {
    "ExecuteTime": {
     "end_time": "2022-04-07T02:47:22.015372Z",
     "start_time": "2022-04-07T02:47:21.877236Z"
    }
   },
   "outputs": [],
   "source": [
    "odds_f = pd.read_csv(r\"E:\\project\\nba_odds_study\\data\\odds\\bettingdata_com\\processed\\bettingdata_odds.csv\", parse_dates=[\"datetime\"], index_col=\"datetime\")"
   ]
  },
  {
   "cell_type": "code",
   "execution_count": 66,
   "metadata": {
    "ExecuteTime": {
     "end_time": "2022-04-07T02:47:22.417378Z",
     "start_time": "2022-04-07T02:47:22.186857Z"
    }
   },
   "outputs": [],
   "source": [
    "pre_f = pd.read_csv(r\"predict_data_with_combined.csv\")"
   ]
  },
  {
   "cell_type": "code",
   "execution_count": 67,
   "metadata": {
    "ExecuteTime": {
     "end_time": "2022-04-07T02:47:22.589239Z",
     "start_time": "2022-04-07T02:47:22.577244Z"
    }
   },
   "outputs": [
    {
     "data": {
      "text/plain": [
       "Index(['Season', 'Type', 'DayString', 'TimeString', 'DayOfWeek',\n",
       "       'DateTimeString', 'LastUpdated', 'Status', 'AwayTeam', 'AwayTeamScore',\n",
       "       ...\n",
       "       'BarstoolAwayPointSpread', 'BarstoolHomePointSpreadPayout',\n",
       "       'BarstoolAwayPointSpreadPayout', 'BarstoolOverUnder',\n",
       "       'BarstoolOverPayout', 'BarstoolUnderPayout', 'BarstoolHomeTeamTotal',\n",
       "       'BarstoolAwayTeamTotal', 'BarstoolHomeTeamTotalPayout',\n",
       "       'BarstoolAwayTeamTotalPayout'],\n",
       "      dtype='object', length=143)"
      ]
     },
     "execution_count": 67,
     "metadata": {},
     "output_type": "execute_result"
    }
   ],
   "source": [
    "odds_f.columns"
   ]
  },
  {
   "cell_type": "code",
   "execution_count": 68,
   "metadata": {
    "ExecuteTime": {
     "end_time": "2022-04-07T02:47:22.761245Z",
     "start_time": "2022-04-07T02:47:22.748223Z"
    }
   },
   "outputs": [
    {
     "data": {
      "text/plain": [
       "Index(['Unnamed: 0', 'TEAM_NAME', 'GP', 'W', 'L', 'W_PCT', 'MIN', 'FGM', 'FGA',\n",
       "       'FG_PCT',\n",
       "       ...\n",
       "       'BLK_RANK.1', 'BLKA_RANK.1', 'PF_RANK.1', 'PFD_RANK.1', 'PTS_RANK.1',\n",
       "       'PLUS_MINUS_RANK.1', 'Home-Team-Win', 'date', 'winprob_home',\n",
       "       'winprob_away'],\n",
       "      dtype='object', length=112)"
      ]
     },
     "execution_count": 68,
     "metadata": {},
     "output_type": "execute_result"
    }
   ],
   "source": [
    "pre_f.columns"
   ]
  },
  {
   "cell_type": "code",
   "execution_count": 69,
   "metadata": {
    "ExecuteTime": {
     "end_time": "2022-04-07T02:47:22.963243Z",
     "start_time": "2022-04-07T02:47:22.920880Z"
    }
   },
   "outputs": [
    {
     "data": {
      "text/html": [
       "<div>\n",
       "<style scoped>\n",
       "    .dataframe tbody tr th:only-of-type {\n",
       "        vertical-align: middle;\n",
       "    }\n",
       "\n",
       "    .dataframe tbody tr th {\n",
       "        vertical-align: top;\n",
       "    }\n",
       "\n",
       "    .dataframe thead th {\n",
       "        text-align: right;\n",
       "    }\n",
       "</style>\n",
       "<table border=\"1\" class=\"dataframe\">\n",
       "  <thead>\n",
       "    <tr style=\"text-align: right;\">\n",
       "      <th></th>\n",
       "      <th>Season</th>\n",
       "      <th>Type</th>\n",
       "      <th>DayString</th>\n",
       "      <th>TimeString</th>\n",
       "      <th>DayOfWeek</th>\n",
       "      <th>DateTimeString</th>\n",
       "      <th>LastUpdated</th>\n",
       "      <th>Status</th>\n",
       "      <th>AwayTeam</th>\n",
       "      <th>AwayTeamScore</th>\n",
       "      <th>...</th>\n",
       "      <th>BarstoolAwayPointSpread</th>\n",
       "      <th>BarstoolHomePointSpreadPayout</th>\n",
       "      <th>BarstoolAwayPointSpreadPayout</th>\n",
       "      <th>BarstoolOverUnder</th>\n",
       "      <th>BarstoolOverPayout</th>\n",
       "      <th>BarstoolUnderPayout</th>\n",
       "      <th>BarstoolHomeTeamTotal</th>\n",
       "      <th>BarstoolAwayTeamTotal</th>\n",
       "      <th>BarstoolHomeTeamTotalPayout</th>\n",
       "      <th>BarstoolAwayTeamTotalPayout</th>\n",
       "    </tr>\n",
       "    <tr>\n",
       "      <th>datetime</th>\n",
       "      <th></th>\n",
       "      <th></th>\n",
       "      <th></th>\n",
       "      <th></th>\n",
       "      <th></th>\n",
       "      <th></th>\n",
       "      <th></th>\n",
       "      <th></th>\n",
       "      <th></th>\n",
       "      <th></th>\n",
       "      <th></th>\n",
       "      <th></th>\n",
       "      <th></th>\n",
       "      <th></th>\n",
       "      <th></th>\n",
       "      <th></th>\n",
       "      <th></th>\n",
       "      <th></th>\n",
       "      <th></th>\n",
       "      <th></th>\n",
       "      <th></th>\n",
       "    </tr>\n",
       "  </thead>\n",
       "  <tbody>\n",
       "    <tr>\n",
       "      <th>2019-01-02</th>\n",
       "      <td>2019</td>\n",
       "      <td>RegularSeason</td>\n",
       "      <td>1/2/19</td>\n",
       "      <td>8:00 PM ET</td>\n",
       "      <td>Wed</td>\n",
       "      <td>1/2/19 @ 8:00 PM ET</td>\n",
       "      <td>NaN</td>\n",
       "      <td>Final</td>\n",
       "      <td>ORL</td>\n",
       "      <td>112</td>\n",
       "      <td>...</td>\n",
       "      <td>NaN</td>\n",
       "      <td>NaN</td>\n",
       "      <td>NaN</td>\n",
       "      <td>NaN</td>\n",
       "      <td>NaN</td>\n",
       "      <td>NaN</td>\n",
       "      <td>NaN</td>\n",
       "      <td>NaN</td>\n",
       "      <td>NaN</td>\n",
       "      <td>NaN</td>\n",
       "    </tr>\n",
       "    <tr>\n",
       "      <th>2019-01-02</th>\n",
       "      <td>2019</td>\n",
       "      <td>RegularSeason</td>\n",
       "      <td>1/2/19</td>\n",
       "      <td>10:30 PM ET</td>\n",
       "      <td>Wed</td>\n",
       "      <td>1/2/19 @ 10:30 PM ET</td>\n",
       "      <td>NaN</td>\n",
       "      <td>Final</td>\n",
       "      <td>OKC</td>\n",
       "      <td>107</td>\n",
       "      <td>...</td>\n",
       "      <td>NaN</td>\n",
       "      <td>NaN</td>\n",
       "      <td>NaN</td>\n",
       "      <td>NaN</td>\n",
       "      <td>NaN</td>\n",
       "      <td>NaN</td>\n",
       "      <td>NaN</td>\n",
       "      <td>NaN</td>\n",
       "      <td>NaN</td>\n",
       "      <td>NaN</td>\n",
       "    </tr>\n",
       "    <tr>\n",
       "      <th>2019-01-02</th>\n",
       "      <td>2019</td>\n",
       "      <td>RegularSeason</td>\n",
       "      <td>1/2/19</td>\n",
       "      <td>9:00 PM ET</td>\n",
       "      <td>Wed</td>\n",
       "      <td>1/2/19 @ 9:00 PM ET</td>\n",
       "      <td>NaN</td>\n",
       "      <td>Final</td>\n",
       "      <td>PHI</td>\n",
       "      <td>132</td>\n",
       "      <td>...</td>\n",
       "      <td>NaN</td>\n",
       "      <td>NaN</td>\n",
       "      <td>NaN</td>\n",
       "      <td>NaN</td>\n",
       "      <td>NaN</td>\n",
       "      <td>NaN</td>\n",
       "      <td>NaN</td>\n",
       "      <td>NaN</td>\n",
       "      <td>NaN</td>\n",
       "      <td>NaN</td>\n",
       "    </tr>\n",
       "    <tr>\n",
       "      <th>2019-01-02</th>\n",
       "      <td>2019</td>\n",
       "      <td>RegularSeason</td>\n",
       "      <td>1/2/19</td>\n",
       "      <td>8:00 PM ET</td>\n",
       "      <td>Wed</td>\n",
       "      <td>1/2/19 @ 8:00 PM ET</td>\n",
       "      <td>NaN</td>\n",
       "      <td>Final</td>\n",
       "      <td>DET</td>\n",
       "      <td>101</td>\n",
       "      <td>...</td>\n",
       "      <td>NaN</td>\n",
       "      <td>NaN</td>\n",
       "      <td>NaN</td>\n",
       "      <td>NaN</td>\n",
       "      <td>NaN</td>\n",
       "      <td>NaN</td>\n",
       "      <td>NaN</td>\n",
       "      <td>NaN</td>\n",
       "      <td>NaN</td>\n",
       "      <td>NaN</td>\n",
       "    </tr>\n",
       "    <tr>\n",
       "      <th>2019-01-02</th>\n",
       "      <td>2019</td>\n",
       "      <td>RegularSeason</td>\n",
       "      <td>1/2/19</td>\n",
       "      <td>8:00 PM ET</td>\n",
       "      <td>Wed</td>\n",
       "      <td>1/2/19 @ 8:00 PM ET</td>\n",
       "      <td>NaN</td>\n",
       "      <td>Final</td>\n",
       "      <td>MIN</td>\n",
       "      <td>102</td>\n",
       "      <td>...</td>\n",
       "      <td>NaN</td>\n",
       "      <td>NaN</td>\n",
       "      <td>NaN</td>\n",
       "      <td>NaN</td>\n",
       "      <td>NaN</td>\n",
       "      <td>NaN</td>\n",
       "      <td>NaN</td>\n",
       "      <td>NaN</td>\n",
       "      <td>NaN</td>\n",
       "      <td>NaN</td>\n",
       "    </tr>\n",
       "  </tbody>\n",
       "</table>\n",
       "<p>5 rows × 143 columns</p>\n",
       "</div>"
      ],
      "text/plain": [
       "            Season           Type DayString   TimeString DayOfWeek  \\\n",
       "datetime                                                             \n",
       "2019-01-02    2019  RegularSeason    1/2/19   8:00 PM ET       Wed   \n",
       "2019-01-02    2019  RegularSeason    1/2/19  10:30 PM ET       Wed   \n",
       "2019-01-02    2019  RegularSeason    1/2/19   9:00 PM ET       Wed   \n",
       "2019-01-02    2019  RegularSeason    1/2/19   8:00 PM ET       Wed   \n",
       "2019-01-02    2019  RegularSeason    1/2/19   8:00 PM ET       Wed   \n",
       "\n",
       "                  DateTimeString  LastUpdated Status AwayTeam  AwayTeamScore  \\\n",
       "datetime                                                                       \n",
       "2019-01-02   1/2/19 @ 8:00 PM ET          NaN  Final      ORL            112   \n",
       "2019-01-02  1/2/19 @ 10:30 PM ET          NaN  Final      OKC            107   \n",
       "2019-01-02   1/2/19 @ 9:00 PM ET          NaN  Final      PHI            132   \n",
       "2019-01-02   1/2/19 @ 8:00 PM ET          NaN  Final      DET            101   \n",
       "2019-01-02   1/2/19 @ 8:00 PM ET          NaN  Final      MIN            102   \n",
       "\n",
       "            ...  BarstoolAwayPointSpread BarstoolHomePointSpreadPayout  \\\n",
       "datetime    ...                                                          \n",
       "2019-01-02  ...                      NaN                           NaN   \n",
       "2019-01-02  ...                      NaN                           NaN   \n",
       "2019-01-02  ...                      NaN                           NaN   \n",
       "2019-01-02  ...                      NaN                           NaN   \n",
       "2019-01-02  ...                      NaN                           NaN   \n",
       "\n",
       "            BarstoolAwayPointSpreadPayout  BarstoolOverUnder  \\\n",
       "datetime                                                       \n",
       "2019-01-02                            NaN                NaN   \n",
       "2019-01-02                            NaN                NaN   \n",
       "2019-01-02                            NaN                NaN   \n",
       "2019-01-02                            NaN                NaN   \n",
       "2019-01-02                            NaN                NaN   \n",
       "\n",
       "           BarstoolOverPayout BarstoolUnderPayout  BarstoolHomeTeamTotal  \\\n",
       "datetime                                                                   \n",
       "2019-01-02                NaN                 NaN                    NaN   \n",
       "2019-01-02                NaN                 NaN                    NaN   \n",
       "2019-01-02                NaN                 NaN                    NaN   \n",
       "2019-01-02                NaN                 NaN                    NaN   \n",
       "2019-01-02                NaN                 NaN                    NaN   \n",
       "\n",
       "            BarstoolAwayTeamTotal  BarstoolHomeTeamTotalPayout  \\\n",
       "datetime                                                         \n",
       "2019-01-02                    NaN                          NaN   \n",
       "2019-01-02                    NaN                          NaN   \n",
       "2019-01-02                    NaN                          NaN   \n",
       "2019-01-02                    NaN                          NaN   \n",
       "2019-01-02                    NaN                          NaN   \n",
       "\n",
       "            BarstoolAwayTeamTotalPayout  \n",
       "datetime                                 \n",
       "2019-01-02                          NaN  \n",
       "2019-01-02                          NaN  \n",
       "2019-01-02                          NaN  \n",
       "2019-01-02                          NaN  \n",
       "2019-01-02                          NaN  \n",
       "\n",
       "[5 rows x 143 columns]"
      ]
     },
     "execution_count": 69,
     "metadata": {},
     "output_type": "execute_result"
    }
   ],
   "source": [
    "odds_f.head(5)"
   ]
  },
  {
   "cell_type": "code",
   "execution_count": 70,
   "metadata": {
    "ExecuteTime": {
     "end_time": "2022-04-07T02:47:23.162497Z",
     "start_time": "2022-04-07T02:47:23.133103Z"
    }
   },
   "outputs": [],
   "source": [
    "odds_f.drop(datetime(2019, 2, 17), axis=0, inplace=True)\n",
    "odds_f.drop(datetime(2022, 2, 20), axis=0, inplace=True)\n",
    "odds_f.drop(datetime(2020, 2, 16), axis=0, inplace=True)\n",
    "odds_f.drop(datetime(2021, 3, 7), axis=0, inplace=True)"
   ]
  },
  {
   "cell_type": "code",
   "execution_count": 71,
   "metadata": {
    "ExecuteTime": {
     "end_time": "2022-04-07T02:47:23.348252Z",
     "start_time": "2022-04-07T02:47:23.336254Z"
    }
   },
   "outputs": [],
   "source": [
    "odds_f_sub = odds_f[[\"AwayTeam\", \"HomeTeam\",\"HomeTeamHasWon\",\"ConsensusHomeMoneyLine\", \"ConsensusAwayMoneyLine\"]].copy()"
   ]
  },
  {
   "cell_type": "code",
   "execution_count": 72,
   "metadata": {
    "ExecuteTime": {
     "end_time": "2022-04-07T02:47:23.551251Z",
     "start_time": "2022-04-07T02:47:23.523219Z"
    }
   },
   "outputs": [
    {
     "data": {
      "text/html": [
       "<div>\n",
       "<style scoped>\n",
       "    .dataframe tbody tr th:only-of-type {\n",
       "        vertical-align: middle;\n",
       "    }\n",
       "\n",
       "    .dataframe tbody tr th {\n",
       "        vertical-align: top;\n",
       "    }\n",
       "\n",
       "    .dataframe thead th {\n",
       "        text-align: right;\n",
       "    }\n",
       "</style>\n",
       "<table border=\"1\" class=\"dataframe\">\n",
       "  <thead>\n",
       "    <tr style=\"text-align: right;\">\n",
       "      <th></th>\n",
       "      <th>AwayTeam</th>\n",
       "      <th>HomeTeam</th>\n",
       "      <th>HomeTeamHasWon</th>\n",
       "      <th>ConsensusHomeMoneyLine</th>\n",
       "      <th>ConsensusAwayMoneyLine</th>\n",
       "    </tr>\n",
       "    <tr>\n",
       "      <th>datetime</th>\n",
       "      <th></th>\n",
       "      <th></th>\n",
       "      <th></th>\n",
       "      <th></th>\n",
       "      <th></th>\n",
       "    </tr>\n",
       "  </thead>\n",
       "  <tbody>\n",
       "    <tr>\n",
       "      <th>2019-01-02</th>\n",
       "      <td>ORL</td>\n",
       "      <td>CHI</td>\n",
       "      <td>False</td>\n",
       "      <td>102.0</td>\n",
       "      <td>-112.0</td>\n",
       "    </tr>\n",
       "    <tr>\n",
       "      <th>2019-01-02</th>\n",
       "      <td>OKC</td>\n",
       "      <td>LAL</td>\n",
       "      <td>False</td>\n",
       "      <td>190.0</td>\n",
       "      <td>-210.0</td>\n",
       "    </tr>\n",
       "    <tr>\n",
       "      <th>2019-01-02</th>\n",
       "      <td>PHI</td>\n",
       "      <td>PHO</td>\n",
       "      <td>False</td>\n",
       "      <td>150.0</td>\n",
       "      <td>-160.0</td>\n",
       "    </tr>\n",
       "    <tr>\n",
       "      <th>2019-01-02</th>\n",
       "      <td>DET</td>\n",
       "      <td>MEM</td>\n",
       "      <td>False</td>\n",
       "      <td>-240.0</td>\n",
       "      <td>220.0</td>\n",
       "    </tr>\n",
       "    <tr>\n",
       "      <th>2019-01-02</th>\n",
       "      <td>MIN</td>\n",
       "      <td>BOS</td>\n",
       "      <td>True</td>\n",
       "      <td>-250.0</td>\n",
       "      <td>230.0</td>\n",
       "    </tr>\n",
       "  </tbody>\n",
       "</table>\n",
       "</div>"
      ],
      "text/plain": [
       "           AwayTeam HomeTeam  HomeTeamHasWon  ConsensusHomeMoneyLine  \\\n",
       "datetime                                                               \n",
       "2019-01-02      ORL      CHI           False                   102.0   \n",
       "2019-01-02      OKC      LAL           False                   190.0   \n",
       "2019-01-02      PHI      PHO           False                   150.0   \n",
       "2019-01-02      DET      MEM           False                  -240.0   \n",
       "2019-01-02      MIN      BOS            True                  -250.0   \n",
       "\n",
       "            ConsensusAwayMoneyLine  \n",
       "datetime                            \n",
       "2019-01-02                  -112.0  \n",
       "2019-01-02                  -210.0  \n",
       "2019-01-02                  -160.0  \n",
       "2019-01-02                   220.0  \n",
       "2019-01-02                   230.0  "
      ]
     },
     "execution_count": 72,
     "metadata": {},
     "output_type": "execute_result"
    }
   ],
   "source": [
    "odds_f_sub.head()"
   ]
  },
  {
   "cell_type": "code",
   "execution_count": 73,
   "metadata": {
    "ExecuteTime": {
     "end_time": "2022-04-07T02:47:23.780799Z",
     "start_time": "2022-04-07T02:47:23.739144Z"
    }
   },
   "outputs": [
    {
     "data": {
      "text/html": [
       "<div>\n",
       "<style scoped>\n",
       "    .dataframe tbody tr th:only-of-type {\n",
       "        vertical-align: middle;\n",
       "    }\n",
       "\n",
       "    .dataframe tbody tr th {\n",
       "        vertical-align: top;\n",
       "    }\n",
       "\n",
       "    .dataframe thead th {\n",
       "        text-align: right;\n",
       "    }\n",
       "</style>\n",
       "<table border=\"1\" class=\"dataframe\">\n",
       "  <thead>\n",
       "    <tr style=\"text-align: right;\">\n",
       "      <th></th>\n",
       "      <th>Unnamed: 0</th>\n",
       "      <th>TEAM_NAME</th>\n",
       "      <th>GP</th>\n",
       "      <th>W</th>\n",
       "      <th>L</th>\n",
       "      <th>W_PCT</th>\n",
       "      <th>MIN</th>\n",
       "      <th>FGM</th>\n",
       "      <th>FGA</th>\n",
       "      <th>FG_PCT</th>\n",
       "      <th>...</th>\n",
       "      <th>BLK_RANK.1</th>\n",
       "      <th>BLKA_RANK.1</th>\n",
       "      <th>PF_RANK.1</th>\n",
       "      <th>PFD_RANK.1</th>\n",
       "      <th>PTS_RANK.1</th>\n",
       "      <th>PLUS_MINUS_RANK.1</th>\n",
       "      <th>Home-Team-Win</th>\n",
       "      <th>date</th>\n",
       "      <th>winprob_home</th>\n",
       "      <th>winprob_away</th>\n",
       "    </tr>\n",
       "  </thead>\n",
       "  <tbody>\n",
       "    <tr>\n",
       "      <th>0</th>\n",
       "      <td>0</td>\n",
       "      <td>Charlotte Bobcats</td>\n",
       "      <td>9</td>\n",
       "      <td>5</td>\n",
       "      <td>4</td>\n",
       "      <td>0.556</td>\n",
       "      <td>48.0</td>\n",
       "      <td>33.2</td>\n",
       "      <td>78.0</td>\n",
       "      <td>0.426</td>\n",
       "      <td>...</td>\n",
       "      <td>28</td>\n",
       "      <td>2</td>\n",
       "      <td>6</td>\n",
       "      <td>15</td>\n",
       "      <td>25</td>\n",
       "      <td>21</td>\n",
       "      <td>1</td>\n",
       "      <td>2007-11-19</td>\n",
       "      <td>0.638390</td>\n",
       "      <td>0.361610</td>\n",
       "    </tr>\n",
       "    <tr>\n",
       "      <th>1</th>\n",
       "      <td>1</td>\n",
       "      <td>Memphis Grizzlies</td>\n",
       "      <td>9</td>\n",
       "      <td>2</td>\n",
       "      <td>7</td>\n",
       "      <td>0.222</td>\n",
       "      <td>48.6</td>\n",
       "      <td>37.0</td>\n",
       "      <td>80.3</td>\n",
       "      <td>0.461</td>\n",
       "      <td>...</td>\n",
       "      <td>14</td>\n",
       "      <td>17</td>\n",
       "      <td>26</td>\n",
       "      <td>23</td>\n",
       "      <td>13</td>\n",
       "      <td>27</td>\n",
       "      <td>1</td>\n",
       "      <td>2007-11-19</td>\n",
       "      <td>0.667728</td>\n",
       "      <td>0.332272</td>\n",
       "    </tr>\n",
       "    <tr>\n",
       "      <th>2</th>\n",
       "      <td>2</td>\n",
       "      <td>New Orleans Hornets</td>\n",
       "      <td>11</td>\n",
       "      <td>9</td>\n",
       "      <td>2</td>\n",
       "      <td>0.818</td>\n",
       "      <td>48.5</td>\n",
       "      <td>37.9</td>\n",
       "      <td>81.7</td>\n",
       "      <td>0.464</td>\n",
       "      <td>...</td>\n",
       "      <td>25</td>\n",
       "      <td>5</td>\n",
       "      <td>5</td>\n",
       "      <td>2</td>\n",
       "      <td>8</td>\n",
       "      <td>6</td>\n",
       "      <td>0</td>\n",
       "      <td>2007-11-19</td>\n",
       "      <td>0.589039</td>\n",
       "      <td>0.410961</td>\n",
       "    </tr>\n",
       "    <tr>\n",
       "      <th>3</th>\n",
       "      <td>3</td>\n",
       "      <td>Utah Jazz</td>\n",
       "      <td>11</td>\n",
       "      <td>7</td>\n",
       "      <td>4</td>\n",
       "      <td>0.636</td>\n",
       "      <td>48.0</td>\n",
       "      <td>40.0</td>\n",
       "      <td>82.9</td>\n",
       "      <td>0.482</td>\n",
       "      <td>...</td>\n",
       "      <td>4</td>\n",
       "      <td>11</td>\n",
       "      <td>27</td>\n",
       "      <td>3</td>\n",
       "      <td>30</td>\n",
       "      <td>27</td>\n",
       "      <td>1</td>\n",
       "      <td>2007-11-19</td>\n",
       "      <td>0.760183</td>\n",
       "      <td>0.239817</td>\n",
       "    </tr>\n",
       "    <tr>\n",
       "      <th>4</th>\n",
       "      <td>0</td>\n",
       "      <td>Washington Wizards</td>\n",
       "      <td>9</td>\n",
       "      <td>4</td>\n",
       "      <td>5</td>\n",
       "      <td>0.444</td>\n",
       "      <td>48.6</td>\n",
       "      <td>34.3</td>\n",
       "      <td>83.3</td>\n",
       "      <td>0.412</td>\n",
       "      <td>...</td>\n",
       "      <td>13</td>\n",
       "      <td>8</td>\n",
       "      <td>16</td>\n",
       "      <td>23</td>\n",
       "      <td>27</td>\n",
       "      <td>19</td>\n",
       "      <td>1</td>\n",
       "      <td>2007-11-20</td>\n",
       "      <td>0.667034</td>\n",
       "      <td>0.332966</td>\n",
       "    </tr>\n",
       "  </tbody>\n",
       "</table>\n",
       "<p>5 rows × 112 columns</p>\n",
       "</div>"
      ],
      "text/plain": [
       "   Unnamed: 0            TEAM_NAME  GP  W  L  W_PCT   MIN   FGM   FGA  FG_PCT  \\\n",
       "0           0    Charlotte Bobcats   9  5  4  0.556  48.0  33.2  78.0   0.426   \n",
       "1           1    Memphis Grizzlies   9  2  7  0.222  48.6  37.0  80.3   0.461   \n",
       "2           2  New Orleans Hornets  11  9  2  0.818  48.5  37.9  81.7   0.464   \n",
       "3           3            Utah Jazz  11  7  4  0.636  48.0  40.0  82.9   0.482   \n",
       "4           0   Washington Wizards   9  4  5  0.444  48.6  34.3  83.3   0.412   \n",
       "\n",
       "   ...  BLK_RANK.1  BLKA_RANK.1  PF_RANK.1  PFD_RANK.1  PTS_RANK.1  \\\n",
       "0  ...          28            2          6          15          25   \n",
       "1  ...          14           17         26          23          13   \n",
       "2  ...          25            5          5           2           8   \n",
       "3  ...           4           11         27           3          30   \n",
       "4  ...          13            8         16          23          27   \n",
       "\n",
       "   PLUS_MINUS_RANK.1  Home-Team-Win        date  winprob_home  winprob_away  \n",
       "0                 21              1  2007-11-19      0.638390      0.361610  \n",
       "1                 27              1  2007-11-19      0.667728      0.332272  \n",
       "2                  6              0  2007-11-19      0.589039      0.410961  \n",
       "3                 27              1  2007-11-19      0.760183      0.239817  \n",
       "4                 19              1  2007-11-20      0.667034      0.332966  \n",
       "\n",
       "[5 rows x 112 columns]"
      ]
     },
     "execution_count": 73,
     "metadata": {},
     "output_type": "execute_result"
    }
   ],
   "source": [
    "pre_f.head()"
   ]
  },
  {
   "cell_type": "code",
   "execution_count": 74,
   "metadata": {
    "ExecuteTime": {
     "end_time": "2022-04-07T02:47:23.952380Z",
     "start_time": "2022-04-07T02:47:23.938370Z"
    }
   },
   "outputs": [],
   "source": [
    "pre_f.loc[:, \"datetime\"]  = pre_f.loc[:, \"date\"]"
   ]
  },
  {
   "cell_type": "code",
   "execution_count": 75,
   "metadata": {
    "ExecuteTime": {
     "end_time": "2022-04-07T02:47:24.138362Z",
     "start_time": "2022-04-07T02:47:24.109377Z"
    }
   },
   "outputs": [
    {
     "data": {
      "text/html": [
       "<div>\n",
       "<style scoped>\n",
       "    .dataframe tbody tr th:only-of-type {\n",
       "        vertical-align: middle;\n",
       "    }\n",
       "\n",
       "    .dataframe tbody tr th {\n",
       "        vertical-align: top;\n",
       "    }\n",
       "\n",
       "    .dataframe thead th {\n",
       "        text-align: right;\n",
       "    }\n",
       "</style>\n",
       "<table border=\"1\" class=\"dataframe\">\n",
       "  <thead>\n",
       "    <tr style=\"text-align: right;\">\n",
       "      <th></th>\n",
       "      <th>Unnamed: 0</th>\n",
       "      <th>TEAM_NAME</th>\n",
       "      <th>GP</th>\n",
       "      <th>W</th>\n",
       "      <th>L</th>\n",
       "      <th>W_PCT</th>\n",
       "      <th>MIN</th>\n",
       "      <th>FGM</th>\n",
       "      <th>FGA</th>\n",
       "      <th>FG_PCT</th>\n",
       "      <th>...</th>\n",
       "      <th>BLKA_RANK.1</th>\n",
       "      <th>PF_RANK.1</th>\n",
       "      <th>PFD_RANK.1</th>\n",
       "      <th>PTS_RANK.1</th>\n",
       "      <th>PLUS_MINUS_RANK.1</th>\n",
       "      <th>Home-Team-Win</th>\n",
       "      <th>date</th>\n",
       "      <th>winprob_home</th>\n",
       "      <th>winprob_away</th>\n",
       "      <th>datetime</th>\n",
       "    </tr>\n",
       "  </thead>\n",
       "  <tbody>\n",
       "    <tr>\n",
       "      <th>0</th>\n",
       "      <td>0</td>\n",
       "      <td>Charlotte Bobcats</td>\n",
       "      <td>9</td>\n",
       "      <td>5</td>\n",
       "      <td>4</td>\n",
       "      <td>0.556</td>\n",
       "      <td>48.0</td>\n",
       "      <td>33.2</td>\n",
       "      <td>78.0</td>\n",
       "      <td>0.426</td>\n",
       "      <td>...</td>\n",
       "      <td>2</td>\n",
       "      <td>6</td>\n",
       "      <td>15</td>\n",
       "      <td>25</td>\n",
       "      <td>21</td>\n",
       "      <td>1</td>\n",
       "      <td>2007-11-19</td>\n",
       "      <td>0.638390</td>\n",
       "      <td>0.361610</td>\n",
       "      <td>2007-11-19</td>\n",
       "    </tr>\n",
       "    <tr>\n",
       "      <th>1</th>\n",
       "      <td>1</td>\n",
       "      <td>Memphis Grizzlies</td>\n",
       "      <td>9</td>\n",
       "      <td>2</td>\n",
       "      <td>7</td>\n",
       "      <td>0.222</td>\n",
       "      <td>48.6</td>\n",
       "      <td>37.0</td>\n",
       "      <td>80.3</td>\n",
       "      <td>0.461</td>\n",
       "      <td>...</td>\n",
       "      <td>17</td>\n",
       "      <td>26</td>\n",
       "      <td>23</td>\n",
       "      <td>13</td>\n",
       "      <td>27</td>\n",
       "      <td>1</td>\n",
       "      <td>2007-11-19</td>\n",
       "      <td>0.667728</td>\n",
       "      <td>0.332272</td>\n",
       "      <td>2007-11-19</td>\n",
       "    </tr>\n",
       "    <tr>\n",
       "      <th>2</th>\n",
       "      <td>2</td>\n",
       "      <td>New Orleans Hornets</td>\n",
       "      <td>11</td>\n",
       "      <td>9</td>\n",
       "      <td>2</td>\n",
       "      <td>0.818</td>\n",
       "      <td>48.5</td>\n",
       "      <td>37.9</td>\n",
       "      <td>81.7</td>\n",
       "      <td>0.464</td>\n",
       "      <td>...</td>\n",
       "      <td>5</td>\n",
       "      <td>5</td>\n",
       "      <td>2</td>\n",
       "      <td>8</td>\n",
       "      <td>6</td>\n",
       "      <td>0</td>\n",
       "      <td>2007-11-19</td>\n",
       "      <td>0.589039</td>\n",
       "      <td>0.410961</td>\n",
       "      <td>2007-11-19</td>\n",
       "    </tr>\n",
       "    <tr>\n",
       "      <th>3</th>\n",
       "      <td>3</td>\n",
       "      <td>Utah Jazz</td>\n",
       "      <td>11</td>\n",
       "      <td>7</td>\n",
       "      <td>4</td>\n",
       "      <td>0.636</td>\n",
       "      <td>48.0</td>\n",
       "      <td>40.0</td>\n",
       "      <td>82.9</td>\n",
       "      <td>0.482</td>\n",
       "      <td>...</td>\n",
       "      <td>11</td>\n",
       "      <td>27</td>\n",
       "      <td>3</td>\n",
       "      <td>30</td>\n",
       "      <td>27</td>\n",
       "      <td>1</td>\n",
       "      <td>2007-11-19</td>\n",
       "      <td>0.760183</td>\n",
       "      <td>0.239817</td>\n",
       "      <td>2007-11-19</td>\n",
       "    </tr>\n",
       "    <tr>\n",
       "      <th>4</th>\n",
       "      <td>0</td>\n",
       "      <td>Washington Wizards</td>\n",
       "      <td>9</td>\n",
       "      <td>4</td>\n",
       "      <td>5</td>\n",
       "      <td>0.444</td>\n",
       "      <td>48.6</td>\n",
       "      <td>34.3</td>\n",
       "      <td>83.3</td>\n",
       "      <td>0.412</td>\n",
       "      <td>...</td>\n",
       "      <td>8</td>\n",
       "      <td>16</td>\n",
       "      <td>23</td>\n",
       "      <td>27</td>\n",
       "      <td>19</td>\n",
       "      <td>1</td>\n",
       "      <td>2007-11-20</td>\n",
       "      <td>0.667034</td>\n",
       "      <td>0.332966</td>\n",
       "      <td>2007-11-20</td>\n",
       "    </tr>\n",
       "  </tbody>\n",
       "</table>\n",
       "<p>5 rows × 113 columns</p>\n",
       "</div>"
      ],
      "text/plain": [
       "   Unnamed: 0            TEAM_NAME  GP  W  L  W_PCT   MIN   FGM   FGA  FG_PCT  \\\n",
       "0           0    Charlotte Bobcats   9  5  4  0.556  48.0  33.2  78.0   0.426   \n",
       "1           1    Memphis Grizzlies   9  2  7  0.222  48.6  37.0  80.3   0.461   \n",
       "2           2  New Orleans Hornets  11  9  2  0.818  48.5  37.9  81.7   0.464   \n",
       "3           3            Utah Jazz  11  7  4  0.636  48.0  40.0  82.9   0.482   \n",
       "4           0   Washington Wizards   9  4  5  0.444  48.6  34.3  83.3   0.412   \n",
       "\n",
       "   ...  BLKA_RANK.1  PF_RANK.1  PFD_RANK.1  PTS_RANK.1  PLUS_MINUS_RANK.1  \\\n",
       "0  ...            2          6          15          25                 21   \n",
       "1  ...           17         26          23          13                 27   \n",
       "2  ...            5          5           2           8                  6   \n",
       "3  ...           11         27           3          30                 27   \n",
       "4  ...            8         16          23          27                 19   \n",
       "\n",
       "   Home-Team-Win        date  winprob_home  winprob_away    datetime  \n",
       "0              1  2007-11-19      0.638390      0.361610  2007-11-19  \n",
       "1              1  2007-11-19      0.667728      0.332272  2007-11-19  \n",
       "2              0  2007-11-19      0.589039      0.410961  2007-11-19  \n",
       "3              1  2007-11-19      0.760183      0.239817  2007-11-19  \n",
       "4              1  2007-11-20      0.667034      0.332966  2007-11-20  \n",
       "\n",
       "[5 rows x 113 columns]"
      ]
     },
     "execution_count": 75,
     "metadata": {},
     "output_type": "execute_result"
    }
   ],
   "source": [
    "pre_f.head()"
   ]
  },
  {
   "cell_type": "code",
   "execution_count": 76,
   "metadata": {
    "ExecuteTime": {
     "end_time": "2022-04-07T02:47:24.326273Z",
     "start_time": "2022-04-07T02:47:24.312280Z"
    }
   },
   "outputs": [],
   "source": [
    "pre_f.rename(columns={\"winprob_away\": \"away_predict_winprob\",\n",
    "                   \"winprob_home\": \"home_predict_winprob\",\n",
    "                   \"TEAM_NAME\": \"home_team\",\n",
    "                   \"TEAM_NAME.1\": \"away_team\"}, inplace=True)"
   ]
  },
  {
   "cell_type": "code",
   "execution_count": 77,
   "metadata": {
    "ExecuteTime": {
     "end_time": "2022-04-07T02:47:24.512110Z",
     "start_time": "2022-04-07T02:47:24.499124Z"
    }
   },
   "outputs": [
    {
     "data": {
      "text/plain": [
       "Index(['AwayTeam', 'HomeTeam', 'HomeTeamHasWon', 'ConsensusHomeMoneyLine',\n",
       "       'ConsensusAwayMoneyLine'],\n",
       "      dtype='object')"
      ]
     },
     "execution_count": 77,
     "metadata": {},
     "output_type": "execute_result"
    }
   ],
   "source": [
    "odds_f_sub.columns"
   ]
  },
  {
   "cell_type": "code",
   "execution_count": 78,
   "metadata": {
    "ExecuteTime": {
     "end_time": "2022-04-07T02:47:24.683357Z",
     "start_time": "2022-04-07T02:47:24.672364Z"
    }
   },
   "outputs": [],
   "source": [
    "odds_f_sub.rename(columns = {\n",
    "    'AwayTeam':'away_team',\n",
    "    'HomeTeam':'home_team',\n",
    "    'HomeTeamHasWon':'home_win',\n",
    "    'ConsensusHomeMoneyLine': 'money_line_home',\n",
    "    'ConsensusAwayMoneyLine': 'money_line_away'\n",
    "}, inplace=True)"
   ]
  },
  {
   "cell_type": "code",
   "execution_count": 79,
   "metadata": {
    "ExecuteTime": {
     "end_time": "2022-04-07T02:47:24.868452Z",
     "start_time": "2022-04-07T02:47:24.840864Z"
    }
   },
   "outputs": [
    {
     "data": {
      "text/html": [
       "<div>\n",
       "<style scoped>\n",
       "    .dataframe tbody tr th:only-of-type {\n",
       "        vertical-align: middle;\n",
       "    }\n",
       "\n",
       "    .dataframe tbody tr th {\n",
       "        vertical-align: top;\n",
       "    }\n",
       "\n",
       "    .dataframe thead th {\n",
       "        text-align: right;\n",
       "    }\n",
       "</style>\n",
       "<table border=\"1\" class=\"dataframe\">\n",
       "  <thead>\n",
       "    <tr style=\"text-align: right;\">\n",
       "      <th></th>\n",
       "      <th>away_team</th>\n",
       "      <th>home_team</th>\n",
       "      <th>home_win</th>\n",
       "      <th>money_line_home</th>\n",
       "      <th>money_line_away</th>\n",
       "    </tr>\n",
       "    <tr>\n",
       "      <th>datetime</th>\n",
       "      <th></th>\n",
       "      <th></th>\n",
       "      <th></th>\n",
       "      <th></th>\n",
       "      <th></th>\n",
       "    </tr>\n",
       "  </thead>\n",
       "  <tbody>\n",
       "    <tr>\n",
       "      <th>2019-01-02</th>\n",
       "      <td>ORL</td>\n",
       "      <td>CHI</td>\n",
       "      <td>False</td>\n",
       "      <td>102.0</td>\n",
       "      <td>-112.0</td>\n",
       "    </tr>\n",
       "    <tr>\n",
       "      <th>2019-01-02</th>\n",
       "      <td>OKC</td>\n",
       "      <td>LAL</td>\n",
       "      <td>False</td>\n",
       "      <td>190.0</td>\n",
       "      <td>-210.0</td>\n",
       "    </tr>\n",
       "    <tr>\n",
       "      <th>2019-01-02</th>\n",
       "      <td>PHI</td>\n",
       "      <td>PHO</td>\n",
       "      <td>False</td>\n",
       "      <td>150.0</td>\n",
       "      <td>-160.0</td>\n",
       "    </tr>\n",
       "    <tr>\n",
       "      <th>2019-01-02</th>\n",
       "      <td>DET</td>\n",
       "      <td>MEM</td>\n",
       "      <td>False</td>\n",
       "      <td>-240.0</td>\n",
       "      <td>220.0</td>\n",
       "    </tr>\n",
       "    <tr>\n",
       "      <th>2019-01-02</th>\n",
       "      <td>MIN</td>\n",
       "      <td>BOS</td>\n",
       "      <td>True</td>\n",
       "      <td>-250.0</td>\n",
       "      <td>230.0</td>\n",
       "    </tr>\n",
       "  </tbody>\n",
       "</table>\n",
       "</div>"
      ],
      "text/plain": [
       "           away_team home_team  home_win  money_line_home  money_line_away\n",
       "datetime                                                                  \n",
       "2019-01-02       ORL       CHI     False            102.0           -112.0\n",
       "2019-01-02       OKC       LAL     False            190.0           -210.0\n",
       "2019-01-02       PHI       PHO     False            150.0           -160.0\n",
       "2019-01-02       DET       MEM     False           -240.0            220.0\n",
       "2019-01-02       MIN       BOS      True           -250.0            230.0"
      ]
     },
     "execution_count": 79,
     "metadata": {},
     "output_type": "execute_result"
    }
   ],
   "source": [
    "odds_f_sub.head()"
   ]
  },
  {
   "cell_type": "code",
   "execution_count": 80,
   "metadata": {
    "ExecuteTime": {
     "end_time": "2022-04-07T02:47:25.039370Z",
     "start_time": "2022-04-07T02:47:25.025376Z"
    }
   },
   "outputs": [
    {
     "data": {
      "text/plain": [
       "array(['ORL', 'OKC', 'PHI', 'DET', 'MIN', 'NO', 'DAL', 'ATL', 'MIA',\n",
       "       'HOU', 'DEN', 'TOR', 'UTA', 'IND', 'WAS', 'BKN', 'LAC', 'NY', 'GS',\n",
       "       'CHA', 'MEM', 'LAL', 'SA', 'SAC', 'CLE', 'MIL', 'CHI', 'PHO',\n",
       "       'BOS', 'POR'], dtype=object)"
      ]
     },
     "execution_count": 80,
     "metadata": {},
     "output_type": "execute_result"
    }
   ],
   "source": [
    "odds_f_sub[\"away_team\"].unique()"
   ]
  },
  {
   "cell_type": "code",
   "execution_count": 81,
   "metadata": {
    "ExecuteTime": {
     "end_time": "2022-04-07T02:47:25.241330Z",
     "start_time": "2022-04-07T02:47:25.230336Z"
    }
   },
   "outputs": [
    {
     "data": {
      "text/plain": [
       "array(['Portland Trail Blazers', 'Seattle SuperSonics', 'Orlando Magic',\n",
       "       'New Jersey Nets', 'Philadelphia 76ers', 'San Antonio Spurs',\n",
       "       'Milwaukee Bucks', 'Los Angeles Lakers', 'Golden State Warriors',\n",
       "       'Toronto Raptors', 'Chicago Bulls', 'Phoenix Suns',\n",
       "       'Washington Wizards', 'Atlanta Hawks', 'Dallas Mavericks',\n",
       "       'New York Knicks', 'Indiana Pacers', 'Cleveland Cavaliers',\n",
       "       'Sacramento Kings', 'Denver Nuggets', 'Charlotte Bobcats',\n",
       "       'Houston Rockets', 'Memphis Grizzlies', 'Minnesota Timberwolves',\n",
       "       'New Orleans Hornets', 'Los Angeles Clippers', 'Boston Celtics',\n",
       "       'Miami Heat', 'Utah Jazz', 'Detroit Pistons',\n",
       "       'Oklahoma City Thunder', 'Brooklyn Nets', 'New Orleans Pelicans',\n",
       "       'Charlotte Hornets', 'LA Clippers'], dtype=object)"
      ]
     },
     "execution_count": 81,
     "metadata": {},
     "output_type": "execute_result"
    }
   ],
   "source": [
    "pre_f[\"away_team\"].unique()"
   ]
  },
  {
   "cell_type": "code",
   "execution_count": 82,
   "metadata": {
    "ExecuteTime": {
     "end_time": "2022-04-07T02:47:25.427303Z",
     "start_time": "2022-04-07T02:47:25.413310Z"
    }
   },
   "outputs": [],
   "source": [
    "TEAM_NAME_MAPPING = {\n",
    " 'Atlanta Hawks': 'ATL',\n",
    " 'Brooklyn Nets': 'BKN',\n",
    " 'Boston Celtics': 'BOS',\n",
    " 'Charlotte Hornets': 'CHA',\n",
    " 'Chicago Bulls': 'CHI',\n",
    " 'Cleveland Cavaliers': 'CLE',\n",
    " 'Dallas Mavericks': 'DAL',\n",
    " 'Denver Nuggets': 'DEN',\n",
    " 'Detroit Pistons': 'DET',\n",
    " 'Golden State Warriors': 'GS',\n",
    " 'Houston Rockets': 'HOU',\n",
    " 'Indiana Pacers': 'IND',\n",
    " 'Los Angeles Clippers': 'LAC',\n",
    " 'Los Angeles Lakers': 'LAL',\n",
    " 'Memphis Grizzlies': 'MEM',\n",
    " 'Miami Heat': 'MIA',\n",
    " 'Milwaukee Bucks': 'MIL',\n",
    " 'Minnesota Timberwolves': 'MIN',\n",
    " 'New Orleans Pelicans': 'NO',\n",
    " 'New York Knicks': 'NY',\n",
    " 'Oklahoma City Thunder': 'OKC',\n",
    " 'Orlando Magic': 'ORL',\n",
    " 'Philadelphia 76ers': 'PHI',\n",
    " 'Phoenix Suns': 'PHO',\n",
    " 'Portland Trail Blazers': 'POR',\n",
    " 'Sacramento Kings': 'SAC',\n",
    " 'San Antonio Spurs': 'SA',\n",
    " 'Toronto Raptors': 'TOR',\n",
    " 'Utah Jazz': 'UTA',\n",
    " 'Washington Wizards': 'WAS',\n",
    " 'New Jersey Nets': 'NKN',\n",
    " 'Seattle SuperSonics': 'SS',\n",
    " 'Charlotte Bobcats': 'CB',\n",
    " 'New Orleans Hornets': 'NOH',\n",
    " 'LA Clippers': 'LC',\n",
    "}"
   ]
  },
  {
   "cell_type": "code",
   "execution_count": 83,
   "metadata": {
    "ExecuteTime": {
     "end_time": "2022-04-07T02:47:25.599293Z",
     "start_time": "2022-04-07T02:47:25.586299Z"
    }
   },
   "outputs": [
    {
     "data": {
      "text/plain": [
       "35"
      ]
     },
     "execution_count": 83,
     "metadata": {},
     "output_type": "execute_result"
    }
   ],
   "source": [
    "len(pre_f[\"away_team\"].unique())"
   ]
  },
  {
   "cell_type": "code",
   "execution_count": 84,
   "metadata": {
    "ExecuteTime": {
     "end_time": "2022-04-07T02:47:25.785353Z",
     "start_time": "2022-04-07T02:47:25.758366Z"
    }
   },
   "outputs": [],
   "source": [
    "pre_f[\"away_team\"] = pre_f[\"away_team\"].apply(lambda x: TEAM_NAME_MAPPING[x])\n",
    "pre_f[\"home_team\"] = pre_f[\"home_team\"].apply(lambda x: TEAM_NAME_MAPPING[x])"
   ]
  },
  {
   "cell_type": "code",
   "execution_count": 85,
   "metadata": {
    "ExecuteTime": {
     "end_time": "2022-04-07T02:47:25.989239Z",
     "start_time": "2022-04-07T02:47:25.975612Z"
    }
   },
   "outputs": [
    {
     "data": {
      "text/plain": [
       "array(['POR', 'SS', 'ORL', 'NKN', 'PHI', 'SA', 'MIL', 'LAL', 'GS', 'TOR',\n",
       "       'CHI', 'PHO', 'WAS', 'ATL', 'DAL', 'NY', 'IND', 'CLE', 'SAC',\n",
       "       'DEN', 'CB', 'HOU', 'MEM', 'MIN', 'NOH', 'LAC', 'BOS', 'MIA',\n",
       "       'UTA', 'DET', 'OKC', 'BKN', 'NO', 'CHA', 'LC'], dtype=object)"
      ]
     },
     "execution_count": 85,
     "metadata": {},
     "output_type": "execute_result"
    }
   ],
   "source": [
    "pre_f[\"away_team\"].unique()"
   ]
  },
  {
   "cell_type": "code",
   "execution_count": 86,
   "metadata": {
    "ExecuteTime": {
     "end_time": "2022-04-07T02:47:26.204111Z",
     "start_time": "2022-04-07T02:47:26.175234Z"
    }
   },
   "outputs": [
    {
     "data": {
      "text/html": [
       "<div>\n",
       "<style scoped>\n",
       "    .dataframe tbody tr th:only-of-type {\n",
       "        vertical-align: middle;\n",
       "    }\n",
       "\n",
       "    .dataframe tbody tr th {\n",
       "        vertical-align: top;\n",
       "    }\n",
       "\n",
       "    .dataframe thead th {\n",
       "        text-align: right;\n",
       "    }\n",
       "</style>\n",
       "<table border=\"1\" class=\"dataframe\">\n",
       "  <thead>\n",
       "    <tr style=\"text-align: right;\">\n",
       "      <th></th>\n",
       "      <th>away_team</th>\n",
       "      <th>home_team</th>\n",
       "      <th>home_win</th>\n",
       "      <th>money_line_home</th>\n",
       "      <th>money_line_away</th>\n",
       "    </tr>\n",
       "    <tr>\n",
       "      <th>datetime</th>\n",
       "      <th></th>\n",
       "      <th></th>\n",
       "      <th></th>\n",
       "      <th></th>\n",
       "      <th></th>\n",
       "    </tr>\n",
       "  </thead>\n",
       "  <tbody>\n",
       "    <tr>\n",
       "      <th>2019-01-02</th>\n",
       "      <td>ORL</td>\n",
       "      <td>CHI</td>\n",
       "      <td>False</td>\n",
       "      <td>102.0</td>\n",
       "      <td>-112.0</td>\n",
       "    </tr>\n",
       "    <tr>\n",
       "      <th>2019-01-02</th>\n",
       "      <td>OKC</td>\n",
       "      <td>LAL</td>\n",
       "      <td>False</td>\n",
       "      <td>190.0</td>\n",
       "      <td>-210.0</td>\n",
       "    </tr>\n",
       "    <tr>\n",
       "      <th>2019-01-02</th>\n",
       "      <td>PHI</td>\n",
       "      <td>PHO</td>\n",
       "      <td>False</td>\n",
       "      <td>150.0</td>\n",
       "      <td>-160.0</td>\n",
       "    </tr>\n",
       "    <tr>\n",
       "      <th>2019-01-02</th>\n",
       "      <td>DET</td>\n",
       "      <td>MEM</td>\n",
       "      <td>False</td>\n",
       "      <td>-240.0</td>\n",
       "      <td>220.0</td>\n",
       "    </tr>\n",
       "    <tr>\n",
       "      <th>2019-01-02</th>\n",
       "      <td>MIN</td>\n",
       "      <td>BOS</td>\n",
       "      <td>True</td>\n",
       "      <td>-250.0</td>\n",
       "      <td>230.0</td>\n",
       "    </tr>\n",
       "    <tr>\n",
       "      <th>...</th>\n",
       "      <td>...</td>\n",
       "      <td>...</td>\n",
       "      <td>...</td>\n",
       "      <td>...</td>\n",
       "      <td>...</td>\n",
       "    </tr>\n",
       "    <tr>\n",
       "      <th>2022-03-27</th>\n",
       "      <td>PHI</td>\n",
       "      <td>PHO</td>\n",
       "      <td>True</td>\n",
       "      <td>-185.0</td>\n",
       "      <td>152.0</td>\n",
       "    </tr>\n",
       "    <tr>\n",
       "      <th>2022-03-27</th>\n",
       "      <td>GS</td>\n",
       "      <td>WAS</td>\n",
       "      <td>True</td>\n",
       "      <td>226.0</td>\n",
       "      <td>-281.0</td>\n",
       "    </tr>\n",
       "    <tr>\n",
       "      <th>2022-03-27</th>\n",
       "      <td>LAL</td>\n",
       "      <td>NO</td>\n",
       "      <td>True</td>\n",
       "      <td>-173.0</td>\n",
       "      <td>143.0</td>\n",
       "    </tr>\n",
       "    <tr>\n",
       "      <th>2022-03-27</th>\n",
       "      <td>UTA</td>\n",
       "      <td>DAL</td>\n",
       "      <td>True</td>\n",
       "      <td>-168.0</td>\n",
       "      <td>139.0</td>\n",
       "    </tr>\n",
       "    <tr>\n",
       "      <th>2022-03-27</th>\n",
       "      <td>CHA</td>\n",
       "      <td>BKN</td>\n",
       "      <td>False</td>\n",
       "      <td>-270.0</td>\n",
       "      <td>217.0</td>\n",
       "    </tr>\n",
       "  </tbody>\n",
       "</table>\n",
       "<p>4317 rows × 5 columns</p>\n",
       "</div>"
      ],
      "text/plain": [
       "           away_team home_team  home_win  money_line_home  money_line_away\n",
       "datetime                                                                  \n",
       "2019-01-02       ORL       CHI     False            102.0           -112.0\n",
       "2019-01-02       OKC       LAL     False            190.0           -210.0\n",
       "2019-01-02       PHI       PHO     False            150.0           -160.0\n",
       "2019-01-02       DET       MEM     False           -240.0            220.0\n",
       "2019-01-02       MIN       BOS      True           -250.0            230.0\n",
       "...              ...       ...       ...              ...              ...\n",
       "2022-03-27       PHI       PHO      True           -185.0            152.0\n",
       "2022-03-27        GS       WAS      True            226.0           -281.0\n",
       "2022-03-27       LAL        NO      True           -173.0            143.0\n",
       "2022-03-27       UTA       DAL      True           -168.0            139.0\n",
       "2022-03-27       CHA       BKN     False           -270.0            217.0\n",
       "\n",
       "[4317 rows x 5 columns]"
      ]
     },
     "execution_count": 86,
     "metadata": {},
     "output_type": "execute_result"
    }
   ],
   "source": [
    "odds_f_sub"
   ]
  },
  {
   "cell_type": "code",
   "execution_count": 87,
   "metadata": {
    "ExecuteTime": {
     "end_time": "2022-04-07T02:47:26.469335Z",
     "start_time": "2022-04-07T02:47:26.377390Z"
    }
   },
   "outputs": [],
   "source": [
    "odds_f_sub.loc[:, \"key\"] = odds_f_sub.index.astype(str) + odds_f_sub[\"home_team\"] + odds_f_sub[\"away_team\"]\n",
    "pre_f.loc[:, \"key\"] = pre_f[\"datetime\"].astype(str) + pre_f[\"home_team\"] + pre_f[\"away_team\"]"
   ]
  },
  {
   "cell_type": "code",
   "execution_count": 88,
   "metadata": {
    "ExecuteTime": {
     "end_time": "2022-04-07T02:47:26.637352Z",
     "start_time": "2022-04-07T02:47:26.626357Z"
    }
   },
   "outputs": [],
   "source": [
    "odds_f_sub.set_index(\"key\", inplace = True)\n",
    "pre_f.set_index(\"key\", inplace = True)"
   ]
  },
  {
   "cell_type": "code",
   "execution_count": 89,
   "metadata": {
    "ExecuteTime": {
     "end_time": "2022-04-07T02:47:27.057299Z",
     "start_time": "2022-04-07T02:47:26.810250Z"
    }
   },
   "outputs": [],
   "source": [
    "odds_f_sub.merge(pre_f, left_index=True, right_index=True, how='inner').to_csv(\"data.csv\")"
   ]
  },
  {
   "cell_type": "code",
   "execution_count": 90,
   "metadata": {
    "ExecuteTime": {
     "end_time": "2022-04-07T02:47:27.257466Z",
     "start_time": "2022-04-07T02:47:27.231478Z"
    }
   },
   "outputs": [],
   "source": [
    "combine_f = odds_f_sub.merge(pre_f, left_index=True, right_index=True, how='inner')"
   ]
  },
  {
   "cell_type": "code",
   "execution_count": 91,
   "metadata": {
    "ExecuteTime": {
     "end_time": "2022-04-07T02:47:27.444375Z",
     "start_time": "2022-04-07T02:47:27.432381Z"
    }
   },
   "outputs": [
    {
     "data": {
      "text/plain": [
       "True"
      ]
     },
     "execution_count": 91,
     "metadata": {},
     "output_type": "execute_result"
    }
   ],
   "source": [
    "(combine_f.home_team_x == combine_f.home_team_y).all()"
   ]
  },
  {
   "cell_type": "code",
   "execution_count": 92,
   "metadata": {
    "ExecuteTime": {
     "end_time": "2022-04-07T02:47:27.619297Z",
     "start_time": "2022-04-07T02:47:27.605302Z"
    }
   },
   "outputs": [
    {
     "data": {
      "text/plain": [
       "Index(['away_team_x', 'home_team_x', 'home_win', 'money_line_home',\n",
       "       'money_line_away', 'Unnamed: 0', 'home_team_y', 'GP', 'W', 'L',\n",
       "       ...\n",
       "       'BLKA_RANK.1', 'PF_RANK.1', 'PFD_RANK.1', 'PTS_RANK.1',\n",
       "       'PLUS_MINUS_RANK.1', 'Home-Team-Win', 'date', 'home_predict_winprob',\n",
       "       'away_predict_winprob', 'datetime'],\n",
       "      dtype='object', length=118)"
      ]
     },
     "execution_count": 92,
     "metadata": {},
     "output_type": "execute_result"
    }
   ],
   "source": [
    "combine_f.columns"
   ]
  },
  {
   "cell_type": "code",
   "execution_count": 93,
   "metadata": {
    "ExecuteTime": {
     "end_time": "2022-04-07T02:47:27.789361Z",
     "start_time": "2022-04-07T02:47:27.777805Z"
    }
   },
   "outputs": [
    {
     "data": {
      "text/plain": [
       "key\n",
       "2019-01-02CHIORL    True\n",
       "2019-01-02LALOKC    True\n",
       "2019-01-02PHOPHI    True\n",
       "2019-01-02MEMDET    True\n",
       "2019-01-02BOSMIN    True\n",
       "                    ... \n",
       "2022-03-27PHOPHI    True\n",
       "2022-03-27WASGS     True\n",
       "2022-03-27NOLAL     True\n",
       "2022-03-27DALUTA    True\n",
       "2022-03-27BKNCHA    True\n",
       "Length: 3263, dtype: bool"
      ]
     },
     "execution_count": 93,
     "metadata": {},
     "output_type": "execute_result"
    }
   ],
   "source": [
    "(combine_f[\"home_win\"] == combine_f[\"Home-Team-Win\"])"
   ]
  },
  {
   "cell_type": "code",
   "execution_count": null,
   "metadata": {},
   "outputs": [],
   "source": []
  },
  {
   "cell_type": "code",
   "execution_count": null,
   "metadata": {},
   "outputs": [],
   "source": []
  },
  {
   "cell_type": "code",
   "execution_count": null,
   "metadata": {},
   "outputs": [],
   "source": []
  },
  {
   "cell_type": "code",
   "execution_count": null,
   "metadata": {},
   "outputs": [],
   "source": []
  }
 ],
 "metadata": {
  "hide_input": false,
  "kernelspec": {
   "display_name": "Python [conda env:nba_bet_machine_learning]",
   "language": "python",
   "name": "conda-env-nba_bet_machine_learning-py"
  },
  "language_info": {
   "codemirror_mode": {
    "name": "ipython",
    "version": 3
   },
   "file_extension": ".py",
   "mimetype": "text/x-python",
   "name": "python",
   "nbconvert_exporter": "python",
   "pygments_lexer": "ipython3",
   "version": "3.8.13"
  },
  "toc": {
   "base_numbering": 1,
   "nav_menu": {},
   "number_sections": true,
   "sideBar": true,
   "skip_h1_title": false,
   "title_cell": "Table of Contents",
   "title_sidebar": "Contents",
   "toc_cell": false,
   "toc_position": {},
   "toc_section_display": true,
   "toc_window_display": false
  },
  "varInspector": {
   "cols": {
    "lenName": 16,
    "lenType": 16,
    "lenVar": 40
   },
   "kernels_config": {
    "python": {
     "delete_cmd_postfix": "",
     "delete_cmd_prefix": "del ",
     "library": "var_list.py",
     "varRefreshCmd": "print(var_dic_list())"
    },
    "r": {
     "delete_cmd_postfix": ") ",
     "delete_cmd_prefix": "rm(",
     "library": "var_list.r",
     "varRefreshCmd": "cat(var_dic_list()) "
    }
   },
   "types_to_exclude": [
    "module",
    "function",
    "builtin_function_or_method",
    "instance",
    "_Feature"
   ],
   "window_display": false
  }
 },
 "nbformat": 4,
 "nbformat_minor": 2
}
